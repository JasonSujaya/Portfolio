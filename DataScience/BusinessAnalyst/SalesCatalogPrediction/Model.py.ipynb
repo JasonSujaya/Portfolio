{
 "cells": [
  {
   "cell_type": "code",
   "execution_count": 6,
   "metadata": {},
   "outputs": [],
   "source": [
    "import csv\n",
    "import numpy as np\n",
    "import pandas as pd"
   ]
  },
  {
   "cell_type": "code",
   "execution_count": 7,
   "metadata": {},
   "outputs": [
    {
     "name": "stdout",
     "output_type": "stream",
     "text": [
      "               Name    Customer_Segment  Customer_ID            Address  \\\n",
      "0     Pamela Wright  Store Mailing List            2   376 S Jasmine St   \n",
      "1     Danell Valdez  Store Mailing List            7   12066 E Lake Cir   \n",
      "2  Jessica Rinehart  Store Mailing List            8  7225 S Gaylord St   \n",
      "3       Nancy Clark  Store Mailing List            9   4497 Cornish Way   \n",
      "4       Andrea Brun  Store Mailing List           10     2316 E 5th Ave   \n",
      "\n",
      "                City State    ZIP  Avg_Sale_Amount  Store_Number  \\\n",
      "0             Denver    CO  80224           227.90           100   \n",
      "1  Greenwood Village    CO  80111            55.00           105   \n",
      "2         Centennial    CO  80122           212.57           101   \n",
      "3             Denver    CO  80239           195.31           105   \n",
      "4             Denver    CO  80206           110.55           100   \n",
      "\n",
      "  Responded_to_Last_Catalog  Avg_Num_Products_Purchased  #_Years_as_Customer  \n",
      "0                        No                           1                    6  \n",
      "1                       Yes                           1                    6  \n",
      "2                        No                           1                    3  \n",
      "3                       Yes                           1                    6  \n",
      "4                       Yes                           1                    2  \n"
     ]
    }
   ],
   "source": [
    "file = 'p1-customers.xlsx'\n",
    "xl = pd.ExcelFile(file)\n",
    "df = xl.parse('p1-customers')\n",
    "print(df.head())"
   ]
  },
  {
   "cell_type": "code",
   "execution_count": 14,
   "metadata": {},
   "outputs": [
    {
     "data": {
      "text/plain": [
       "41369.4"
      ]
     },
     "execution_count": 14,
     "metadata": {},
     "output_type": "execute_result"
    }
   ],
   "source": [
    "#Formula\n",
    "def regressionCalc(Carat, Cut, Clarity):\n",
    "    x = 5269 + 8413* Carat + 158.1 * Cut + 454 * Clarity\n",
    "    return x\n",
    "\n",
    "regressionCalc(4,4,4)"
   ]
  },
  {
   "cell_type": "code",
   "execution_count": null,
   "metadata": {},
   "outputs": [],
   "source": []
  }
 ],
 "metadata": {
  "kernelspec": {
   "display_name": "Python 3",
   "language": "python",
   "name": "python3"
  },
  "language_info": {
   "codemirror_mode": {
    "name": "ipython",
    "version": 3
   },
   "file_extension": ".py",
   "mimetype": "text/x-python",
   "name": "python",
   "nbconvert_exporter": "python",
   "pygments_lexer": "ipython3",
   "version": "3.7.0"
  }
 },
 "nbformat": 4,
 "nbformat_minor": 2
}
