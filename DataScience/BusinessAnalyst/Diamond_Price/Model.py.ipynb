{
 "cells": [
  {
   "cell_type": "code",
   "execution_count": 3,
   "metadata": {},
   "outputs": [],
   "source": [
    "import csv\n",
    "import numpy as np\n",
    "import pandas as pd"
   ]
  },
  {
   "cell_type": "code",
   "execution_count": 7,
   "metadata": {},
   "outputs": [
    {
     "data": {
      "text/html": [
       "<div>\n",
       "<style scoped>\n",
       "    .dataframe tbody tr th:only-of-type {\n",
       "        vertical-align: middle;\n",
       "    }\n",
       "\n",
       "    .dataframe tbody tr th {\n",
       "        vertical-align: top;\n",
       "    }\n",
       "\n",
       "    .dataframe thead th {\n",
       "        text-align: right;\n",
       "    }\n",
       "</style>\n",
       "<table border=\"1\" class=\"dataframe\">\n",
       "  <thead>\n",
       "    <tr style=\"text-align: right;\">\n",
       "      <th></th>\n",
       "      <th>Unnamed: 0</th>\n",
       "      <th>carat</th>\n",
       "      <th>cut</th>\n",
       "      <th>cut_ord</th>\n",
       "      <th>color</th>\n",
       "      <th>clarity</th>\n",
       "      <th>clarity_ord</th>\n",
       "      <th>price</th>\n",
       "    </tr>\n",
       "  </thead>\n",
       "  <tbody>\n",
       "    <tr>\n",
       "      <th>0</th>\n",
       "      <td>1</td>\n",
       "      <td>0.51</td>\n",
       "      <td>Premium</td>\n",
       "      <td>4</td>\n",
       "      <td>F</td>\n",
       "      <td>VS1</td>\n",
       "      <td>4</td>\n",
       "      <td>1749</td>\n",
       "    </tr>\n",
       "    <tr>\n",
       "      <th>1</th>\n",
       "      <td>2</td>\n",
       "      <td>2.25</td>\n",
       "      <td>Fair</td>\n",
       "      <td>1</td>\n",
       "      <td>G</td>\n",
       "      <td>I1</td>\n",
       "      <td>1</td>\n",
       "      <td>7069</td>\n",
       "    </tr>\n",
       "    <tr>\n",
       "      <th>2</th>\n",
       "      <td>3</td>\n",
       "      <td>0.70</td>\n",
       "      <td>Very Good</td>\n",
       "      <td>3</td>\n",
       "      <td>E</td>\n",
       "      <td>VS2</td>\n",
       "      <td>5</td>\n",
       "      <td>2757</td>\n",
       "    </tr>\n",
       "    <tr>\n",
       "      <th>3</th>\n",
       "      <td>4</td>\n",
       "      <td>0.47</td>\n",
       "      <td>Good</td>\n",
       "      <td>2</td>\n",
       "      <td>F</td>\n",
       "      <td>VS1</td>\n",
       "      <td>4</td>\n",
       "      <td>1243</td>\n",
       "    </tr>\n",
       "    <tr>\n",
       "      <th>4</th>\n",
       "      <td>5</td>\n",
       "      <td>0.30</td>\n",
       "      <td>Ideal</td>\n",
       "      <td>5</td>\n",
       "      <td>G</td>\n",
       "      <td>VVS1</td>\n",
       "      <td>7</td>\n",
       "      <td>789</td>\n",
       "    </tr>\n",
       "  </tbody>\n",
       "</table>\n",
       "</div>"
      ],
      "text/plain": [
       "   Unnamed: 0  carat        cut  cut_ord color clarity  clarity_ord  price\n",
       "0           1   0.51    Premium        4     F     VS1            4   1749\n",
       "1           2   2.25       Fair        1     G      I1            1   7069\n",
       "2           3   0.70  Very Good        3     E     VS2            5   2757\n",
       "3           4   0.47       Good        2     F     VS1            4   1243\n",
       "4           5   0.30      Ideal        5     G    VVS1            7    789"
      ]
     },
     "execution_count": 7,
     "metadata": {},
     "output_type": "execute_result"
    }
   ],
   "source": [
    "file = 'diamonds.csv'\n",
    "df = pd.read_csv(file)\n",
    "df.head()"
   ]
  },
  {
   "cell_type": "code",
   "execution_count": 14,
   "metadata": {},
   "outputs": [
    {
     "data": {
      "text/plain": [
       "41369.4"
      ]
     },
     "execution_count": 14,
     "metadata": {},
     "output_type": "execute_result"
    }
   ],
   "source": [
    "#Formula\n",
    "def regressionCalc(Carat, Cut, Clarity):\n",
    "    x = 5269 + 8413* Carat + 158.1 * Cut + 454 * Clarity\n",
    "    return x\n",
    "\n",
    "regressionCalc(4,4,4)"
   ]
  },
  {
   "cell_type": "code",
   "execution_count": null,
   "metadata": {},
   "outputs": [],
   "source": []
  }
 ],
 "metadata": {
  "kernelspec": {
   "display_name": "Python 3",
   "language": "python",
   "name": "python3"
  },
  "language_info": {
   "codemirror_mode": {
    "name": "ipython",
    "version": 3
   },
   "file_extension": ".py",
   "mimetype": "text/x-python",
   "name": "python",
   "nbconvert_exporter": "python",
   "pygments_lexer": "ipython3",
   "version": "3.7.0"
  }
 },
 "nbformat": 4,
 "nbformat_minor": 2
}
